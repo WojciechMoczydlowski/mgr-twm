{
 "cells": [
  {
   "cell_type": "markdown",
   "metadata": {
    "colab_type": "text",
    "id": "V3WSjIHnbEG3"
   },
   "source": [
    "# Segmentation of Road from Satellite imagery"
   ]
  },
  {
   "cell_type": "code",
   "execution_count": null,
   "metadata": {
    "colab": {
     "base_uri": "https://localhost:8080/",
     "height": 67
    },
    "colab_type": "code",
    "id": "lI8QqR1jj9wJ",
    "outputId": "154bcc02-ba09-419c-8bfe-0a29726e2171"
   },
   "outputs": [],
   "source": [
    "from google.colab import drive\n",
    "drive.mount('/content/gdrive/')\n",
    "base_path = \"gdrive/My\\ Drive/39_GeoArchitect/\"\n",
    "%cd gdrive/My\\ Drive/39_GeoArchitect/"
   ]
  },
  {
   "cell_type": "markdown",
   "metadata": {
    "colab_type": "text",
    "id": "p1ZeiWO9bSrT"
   },
   "source": [
    "## Importing Libraries"
   ]
  },
  {
   "cell_type": "code",
   "execution_count": null,
   "metadata": {
    "colab": {},
    "colab_type": "code",
    "id": "vUHhxUFxxOaU"
   },
   "outputs": [],
   "source": [
    "import warnings\n",
    "warnings.filterwarnings('ignore')\n",
    "\n",
    "import os\n",
    "import cv2\n",
    "from google.colab.patches import cv2_imshow\n",
    "import numpy as np\n",
    "import tensorflow as tf\n",
    "import pandas as pd\n",
    "from keras.models import Model, load_model\n",
    "from skimage.morphology import label\n",
    "import pickle\n",
    "import tensorflow.keras.backend as K\n",
    "\n",
    "from matplotlib import pyplot as plt\n",
    "from tqdm import tqdm_notebook\n",
    "import random\n",
    "from skimage.io import imread, imshow, imread_collection, concatenate_images\n",
    "from matplotlib import pyplot as plt\n",
    "import h5py\n",
    "\n",
    "seed = 56"
   ]
  },
  {
   "cell_type": "markdown",
   "metadata": {
    "colab_type": "text",
    "id": "dxc4fNMJbWV2"
   },
   "source": [
    "## Loading Data"
   ]
  },
  {
   "cell_type": "code",
   "execution_count": null,
   "metadata": {
    "colab": {},
    "colab_type": "code",
    "id": "WgZi89lE0NK3"
   },
   "outputs": [],
   "source": [
    "IMAGE_HEIGHT = IMAGE_WIDTH = 256\n",
    "NUM_CHANNELS = 3\n",
    "image_file = './Data/road_images.h5py'\n",
    "mask_file = './Data/road_masks.h5py'"
   ]
  },
  {
   "cell_type": "code",
   "execution_count": null,
   "metadata": {
    "colab": {
     "base_uri": "https://localhost:8080/",
     "height": 34
    },
    "colab_type": "code",
    "id": "xfJWXIoL5_Hb",
    "outputId": "7854f409-f64d-48cc-e35c-14ae3792c4b8"
   },
   "outputs": [],
   "source": [
    "hfile = h5py.File(image_file, 'r')\n",
    "n1 = hfile.get('all_images')\n",
    "images = np.array(n1)\n",
    "print(images.shape)\n",
    "hfile.close()"
   ]
  },
  {
   "cell_type": "code",
   "execution_count": null,
   "metadata": {
    "colab": {
     "base_uri": "https://localhost:8080/",
     "height": 50
    },
    "colab_type": "code",
    "id": "PbWTQdw38Wrl",
    "outputId": "b662e375-470b-439c-8b0b-f5ec3d4a7430"
   },
   "outputs": [],
   "source": [
    "hfile = h5py.File(mask_file, 'r')\n",
    "n1 = hfile.get('all_masks')\n",
    "masks = np.array(n1)\n",
    "print(masks.shape)\n",
    "print(\"Unique elements in the train mask:\", np.unique(masks))\n",
    "hfile.close()"
   ]
  },
  {
   "cell_type": "markdown",
   "metadata": {
    "colab_type": "text",
    "id": "osgE_nJru7W9"
   },
   "source": [
    "## Displaying few Samples"
   ]
  },
  {
   "cell_type": "code",
   "execution_count": null,
   "metadata": {
    "colab": {
     "base_uri": "https://localhost:8080/",
     "height": 917
    },
    "colab_type": "code",
    "id": "3Jx6p__HZZNU",
    "outputId": "8d814eed-33fb-41a5-847f-ebb4dd096480"
   },
   "outputs": [],
   "source": [
    " plt.figure(figsize=(20,16))\n",
    "x, y = 5,4\n",
    "for i in range(y):  \n",
    "    for j in range(x):\n",
    "        plt.subplot(y*2, x, i*2*x+j+1)\n",
    "        pos = i*120 + j*10\n",
    "        plt.imshow(images[pos])\n",
    "        plt.title('Sat img #{}'.format(pos))\n",
    "        plt.axis('off')\n",
    "        plt.subplot(y*2, x, (i*2+1)*x+j+1)\n",
    "           \n",
    "        #We display the associated mask we just generated above with the training image\n",
    "        plt.imshow(masks[pos])\n",
    "        plt.title('Mask #{}'.format(pos))\n",
    "        plt.axis('off')\n",
    "        \n",
    "plt.show()"
   ]
  },
  {
   "cell_type": "code",
   "execution_count": null,
   "metadata": {
    "colab": {},
    "colab_type": "code",
    "id": "H5ySd_gpUUvH"
   },
   "outputs": [],
   "source": [
    "masks = np.expand_dims(masks, -1)"
   ]
  },
  {
   "cell_type": "markdown",
   "metadata": {
    "colab_type": "text",
    "id": "aS3yy-MoxNJd"
   },
   "source": [
    "## Defining Custom Loss functions and accuracy Metric."
   ]
  },
  {
   "cell_type": "code",
   "execution_count": null,
   "metadata": {
    "colab": {},
    "colab_type": "code",
    "id": "OmI15mzGmD_R"
   },
   "outputs": [],
   "source": [
    "#Source: https://towardsdatascience.com/metrics-to-evaluate-your-semantic-segmentation-model-6bcb99639aa2\n",
    "from keras import backend as K\n",
    "def iou_coef(y_true, y_pred, smooth=1):\n",
    "  intersection = K.sum(K.abs(y_true * y_pred), axis=[1,2,3])\n",
    "  union = K.sum(y_true,[1,2,3])+K.sum(y_pred,[1,2,3])-intersection\n",
    "  iou = K.mean((intersection + smooth) / (union + smooth), axis=0)\n",
    "  \n",
    "  return iou"
   ]
  },
  {
   "cell_type": "code",
   "execution_count": null,
   "metadata": {
    "colab": {},
    "colab_type": "code",
    "id": "bxUwv6N4gwQ0"
   },
   "outputs": [],
   "source": [
    "def dice_coef(y_true, y_pred, smooth = 1):\n",
    "    y_true_f = K.flatten(y_true)\n",
    "    y_pred_f = K.flatten(y_pred)\n",
    "    intersection = K.sum(y_true_f * y_pred_f)\n",
    "    return (2. * intersection + smooth) / (K.sum(y_true_f) + K.sum(y_pred_f) + smooth)\n",
    "\n",
    "def soft_dice_loss(y_true, y_pred):\n",
    "    return 1-dice_coef(y_true, y_pred)"
   ]
  },
  {
   "cell_type": "code",
   "execution_count": null,
   "metadata": {
    "colab": {
     "base_uri": "https://localhost:8080/",
     "height": 50
    },
    "colab_type": "code",
    "id": "m_JjfHf-EO-M",
    "outputId": "2add0301-5e95-469f-8cc7-d4a83fea0dcf"
   },
   "outputs": [],
   "source": [
    "print(masks.shape)\n",
    "print(images.shape)"
   ]
  },
  {
   "cell_type": "markdown",
   "metadata": {
    "colab_type": "text",
    "id": "qvS7KS7bPish"
   },
   "source": [
    "## Splitting data"
   ]
  },
  {
   "cell_type": "code",
   "execution_count": null,
   "metadata": {
    "colab": {
     "base_uri": "https://localhost:8080/",
     "height": 118
    },
    "colab_type": "code",
    "id": "zeHyAwgZPkhJ",
    "outputId": "a2f9906d-ce25-45f8-aa3c-cde52404d4c8"
   },
   "outputs": [],
   "source": [
    "from sklearn.model_selection import train_test_split\n",
    "train_images, test_images, train_masks, test_masks = train_test_split(images, masks, test_size=0.2, random_state=seed)\n",
    "del images, masks\n",
    "print(\"TRAIN SET\")\n",
    "print(train_images.shape)\n",
    "print(train_masks.shape)\n",
    "print(\"TEST SET\")\n",
    "print(test_images.shape)\n",
    "print(test_masks.shape)"
   ]
  },
  {
   "cell_type": "markdown",
   "metadata": {
    "colab_type": "text",
    "id": "icu1-GbRxkor"
   },
   "source": [
    "## Defining Our Model"
   ]
  },
  {
   "cell_type": "code",
   "execution_count": null,
   "metadata": {
    "colab": {},
    "colab_type": "code",
    "id": "RAw-OnW57dm9"
   },
   "outputs": [],
   "source": [
    "from keras.models import Model, load_model\n",
    "import tensorflow as tf\n",
    "from keras.layers import Input\n",
    "from keras.layers.core import Dropout, Lambda\n",
    "from keras.layers.convolutional import Conv2D, Conv2DTranspose\n",
    "from keras.layers.pooling import MaxPooling2D\n",
    "from keras.layers.merge import concatenate\n",
    "from keras import optimizers\n",
    "from keras.layers import BatchNormalization\n",
    "from tensorflow.keras.metrics import MeanIoU\n",
    "import keras"
   ]
  },
  {
   "cell_type": "code",
   "execution_count": null,
   "metadata": {
    "colab": {
     "base_uri": "https://localhost:8080/",
     "height": 1000
    },
    "colab_type": "code",
    "id": "jRN88N68SB2k",
    "outputId": "543f26e6-e7f6-4ece-c1d8-dde4d9e0b19a"
   },
   "outputs": [],
   "source": [
    "inputs = Input((IMAGE_HEIGHT, IMAGE_WIDTH, 3))\n",
    "s = Lambda(lambda x: x / 255) (inputs)\n",
    "\n",
    "conv1 = Conv2D(16, (3, 3), activation='elu', kernel_initializer='he_normal', padding='same') (inputs)\n",
    "conv1 = BatchNormalization() (conv1)\n",
    "conv1 = Dropout(0.1) (conv1)\n",
    "conv1 = Conv2D(16, (3, 3), activation='elu', kernel_initializer='he_normal', padding='same') (conv1)\n",
    "conv1 = BatchNormalization() (conv1)\n",
    "pooling1 = MaxPooling2D((2, 2)) (conv1)\n",
    "\n",
    "conv2 = Conv2D(32, (3, 3), activation='elu', kernel_initializer='he_normal', padding='same') (pooling1)\n",
    "conv2 = BatchNormalization() (conv2)\n",
    "conv2 = Dropout(0.1) (conv2)\n",
    "conv2 = Conv2D(32, (3, 3), activation='elu', kernel_initializer='he_normal', padding='same') (conv2)\n",
    "conv2 = BatchNormalization() (conv2)\n",
    "pooling2 = MaxPooling2D((2, 2)) (conv2)\n",
    "\n",
    "conv3 = Conv2D(64, (3, 3), activation='elu', kernel_initializer='he_normal', padding='same') (pooling2)\n",
    "conv3 = BatchNormalization() (conv3)\n",
    "conv3 = Dropout(0.2) (conv3)\n",
    "conv3 = Conv2D(64, (3, 3), activation='elu', kernel_initializer='he_normal', padding='same') (conv3)\n",
    "conv3 = BatchNormalization() (conv3)\n",
    "pooling3 = MaxPooling2D((2, 2)) (conv3)\n",
    "\n",
    "conv4 = Conv2D(128, (3, 3), activation='elu', kernel_initializer='he_normal', padding='same') (pooling3)\n",
    "conv4 = BatchNormalization() (conv4)\n",
    "conv4 = Dropout(0.2) (conv4)\n",
    "conv4 = Conv2D(128, (3, 3), activation='elu', kernel_initializer='he_normal', padding='same') (conv4)\n",
    "conv4 = BatchNormalization() (conv4)\n",
    "pooling4 = MaxPooling2D(pool_size=(2, 2)) (conv4)\n",
    "\n",
    "conv5 = Conv2D(256, (3, 3), activation='elu', kernel_initializer='he_normal', padding='same') (pooling4)\n",
    "conv5 = BatchNormalization() (conv5)\n",
    "conv5 = Dropout(0.3) (conv5)\n",
    "conv5 = Conv2D(256, (3, 3), activation='elu', kernel_initializer='he_normal', padding='same') (conv5)\n",
    "conv5 = BatchNormalization() (conv5)\n",
    "\n",
    "\n",
    "upsample6 = Conv2DTranspose(128, (2, 2), strides=(2, 2), padding='same') (conv5)\n",
    "upsample6 = concatenate([upsample6, conv4])\n",
    "conv6 = Conv2D(128, (3, 3), activation='elu', kernel_initializer='he_normal', padding='same') (upsample6)\n",
    "conv6 = BatchNormalization() (conv6)\n",
    "conv6 = Dropout(0.2) (conv6)\n",
    "conv6 = Conv2D(128, (3, 3), activation='elu', kernel_initializer='he_normal', padding='same') (conv6)\n",
    "conv6 = BatchNormalization() (conv6)\n",
    "\n",
    "upsample7 = Conv2DTranspose(64, (2, 2), strides=(2, 2), padding='same') (conv6)\n",
    "upsample7 = concatenate([upsample7, conv3])\n",
    "conv7 = Conv2D(64, (3, 3), activation='elu', kernel_initializer='he_normal', padding='same') (upsample7)\n",
    "conv7 = BatchNormalization() (conv7)\n",
    "conv7 = Dropout(0.2) (conv7)\n",
    "conv7 = Conv2D(64, (3, 3), activation='elu', kernel_initializer='he_normal', padding='same') (conv7)\n",
    "conv7 = BatchNormalization() (conv7)\n",
    "\n",
    "upsample8 = Conv2DTranspose(32, (2, 2), strides=(2, 2), padding='same') (conv7)\n",
    "upsample8 = concatenate([upsample8, conv2])\n",
    "conv8 = Conv2D(32, (3, 3), activation='elu', kernel_initializer='he_normal', padding='same') (upsample8)\n",
    "conv8 = BatchNormalization() (conv8)\n",
    "conv8 = Dropout(0.1) (conv8)\n",
    "conv8 = Conv2D(32, (3, 3), activation='elu', kernel_initializer='he_normal', padding='same') (conv8)\n",
    "conv8 = BatchNormalization() (conv8)\n",
    "\n",
    "upsample9 = Conv2DTranspose(16, (2, 2), strides=(2, 2), padding='same') (conv8)\n",
    "upsample9 = concatenate([upsample9, conv1], axis=3)\n",
    "conv9 = Conv2D(16, (3, 3), activation='elu', kernel_initializer='he_normal', padding='same') (upsample9)\n",
    "conv9 = BatchNormalization() (conv9)\n",
    "conv9 = Dropout(0.1) (conv9)\n",
    "conv9 = Conv2D(16, (3, 3), activation='elu', kernel_initializer='he_normal', padding='same') (conv9)\n",
    "conv9 = BatchNormalization() (conv9)\n",
    "\n",
    "outputs = Conv2D(1, (1, 1), activation='sigmoid') (conv9)\n",
    "\n",
    "model = Model(inputs=[inputs], outputs=[outputs])\n",
    "model.summary()"
   ]
  },
  {
   "cell_type": "markdown",
   "metadata": {
    "colab_type": "text",
    "id": "PrmWnkYJB8uj"
   },
   "source": [
    "### HYPER_PARAMETERS"
   ]
  },
  {
   "cell_type": "code",
   "execution_count": null,
   "metadata": {
    "colab": {},
    "colab_type": "code",
    "id": "SbnY2mIDDVZN"
   },
   "outputs": [],
   "source": [
    "EPOCHS = 100\n",
    "LEARNING_RATE = 0.0001\n",
    "BATCH_SIZE = 16"
   ]
  },
  {
   "cell_type": "markdown",
   "metadata": {
    "colab_type": "text",
    "id": "PvDS_wY7D9sq"
   },
   "source": [
    "### Initializing Callbacks"
   ]
  },
  {
   "cell_type": "code",
   "execution_count": null,
   "metadata": {
    "colab": {},
    "colab_type": "code",
    "id": "Au-ZS3kKEs5V"
   },
   "outputs": [],
   "source": [
    "from tensorboardcolab import TensorBoardColab, TensorBoardColabCallback\n",
    "from keras.callbacks import EarlyStopping, ModelCheckpoint, ReduceLROnPlateau\n",
    "from datetime import datetime"
   ]
  },
  {
   "cell_type": "code",
   "execution_count": null,
   "metadata": {
    "colab": {
     "base_uri": "https://localhost:8080/",
     "height": 67
    },
    "colab_type": "code",
    "id": "SZ_uvDQB1O3U",
    "outputId": "7f58320c-7700-4f8c-982f-cb88a35ea2fd"
   },
   "outputs": [],
   "source": [
    "tbc=TensorBoardColab()"
   ]
  },
  {
   "cell_type": "code",
   "execution_count": null,
   "metadata": {
    "colab": {},
    "colab_type": "code",
    "id": "Y3e-jHbcDTxb"
   },
   "outputs": [],
   "source": [
    "model_path = \"./Models/road_mapper_2.h5\"\n",
    "checkpointer = ModelCheckpoint(model_path,\n",
    "                             monitor=\"val_loss\",\n",
    "                             mode=\"min\",\n",
    "                             save_best_only = True,\n",
    "                             verbose=1)\n",
    "\n",
    "earlystopper = EarlyStopping(monitor = 'val_loss', \n",
    "                          min_delta = 0, \n",
    "                          patience = 5,\n",
    "                          verbose = 1,\n",
    "                          restore_best_weights = True)\n",
    "\n",
    "lr_reducer = ReduceLROnPlateau(monitor='val_loss',\n",
    "                               factor=0.1,\n",
    "                               patience=4,\n",
    "                               verbose=1,\n",
    "                               epsilon=1e-4)"
   ]
  },
  {
   "cell_type": "markdown",
   "metadata": {
    "colab_type": "text",
    "id": "e6sX2f-L_UrQ"
   },
   "source": [
    "### Compiling the model"
   ]
  },
  {
   "cell_type": "code",
   "execution_count": null,
   "metadata": {
    "colab": {},
    "colab_type": "code",
    "id": "BSW1jCBF-_R5"
   },
   "outputs": [],
   "source": [
    "opt = keras.optimizers.adam(LEARNING_RATE)\n",
    "model.compile(\n",
    "      optimizer=opt,\n",
    "      loss=soft_dice_loss,\n",
    "      metrics=[iou_coef])"
   ]
  },
  {
   "cell_type": "code",
   "execution_count": null,
   "metadata": {
    "colab": {
     "base_uri": "https://localhost:8080/",
     "height": 1000
    },
    "colab_type": "code",
    "id": "IGWiqayxBYpv",
    "outputId": "c19db73e-ab47-4d87-9166-643885b7cdae"
   },
   "outputs": [],
   "source": [
    "history = model.fit(train_images,\n",
    "                    train_masks/255,\n",
    "                    validation_split = 0.1,\n",
    "                    epochs=EPOCHS,\n",
    "                    batch_size = BATCH_SIZE,\n",
    "                    callbacks = [checkpointer, earlystopper, lr_reducer, TensorBoardColabCallback(tbc)]\n",
    "                       )"
   ]
  },
  {
   "cell_type": "code",
   "execution_count": null,
   "metadata": {
    "colab": {},
    "colab_type": "code",
    "id": "20IZ07oWpWiP"
   },
   "outputs": [],
   "source": [
    "model.save(\"./Models/road_mapper_final.h5\")"
   ]
  },
  {
   "cell_type": "markdown",
   "metadata": {
    "colab_type": "text",
    "id": "19gHX8-TBVJp"
   },
   "source": [
    "## Testing our Model"
   ]
  },
  {
   "cell_type": "markdown",
   "metadata": {
    "colab_type": "text",
    "id": "150dL9XqskGW"
   },
   "source": [
    "### On Test Images"
   ]
  },
  {
   "cell_type": "code",
   "execution_count": null,
   "metadata": {
    "colab": {},
    "colab_type": "code",
    "id": "nHcafCucPwsN"
   },
   "outputs": [],
   "source": [
    "model = load_model(\"./Models/road_mapper_final.h5\", custom_objects={'soft_dice_loss': soft_dice_loss, 'iou_coef': iou_coef})"
   ]
  },
  {
   "cell_type": "code",
   "execution_count": null,
   "metadata": {
    "colab": {},
    "colab_type": "code",
    "id": "ylpqQZ6dejCZ"
   },
   "outputs": [],
   "source": [
    "model.evaluate(test_images, test_masks)"
   ]
  },
  {
   "cell_type": "code",
   "execution_count": null,
   "metadata": {
    "colab": {
     "base_uri": "https://localhost:8080/",
     "height": 34
    },
    "colab_type": "code",
    "id": "7TbTMDUqPy0l",
    "outputId": "c9db82e0-8def-44bd-b8b8-cf30cb2e4f8a"
   },
   "outputs": [],
   "source": [
    "predictions = model.predict(test_images, verbose=1)"
   ]
  },
  {
   "cell_type": "code",
   "execution_count": null,
   "metadata": {
    "colab": {},
    "colab_type": "code",
    "id": "0aRCjSMKBXJ1"
   },
   "outputs": [],
   "source": [
    "thresh_val = 0.1\n",
    "predicton_threshold = (predictions > thresh_val).astype(np.uint8)"
   ]
  },
  {
   "cell_type": "code",
   "execution_count": null,
   "metadata": {
    "colab": {
     "base_uri": "https://localhost:8080/",
     "height": 1000
    },
    "colab_type": "code",
    "id": "bu47qqD5NCa3",
    "outputId": "2c4f68f3-2655-4109-bf8c-5b66e87dafe5"
   },
   "outputs": [],
   "source": [
    "ix = random.randint(0, len(predictions))\n",
    "num_samples = 10\n",
    "\n",
    "f = plt.figure(figsize = (15, 25))\n",
    "for i in range(1, num_samples*4, 4):\n",
    "  ix = random.randint(0, len(predictions))\n",
    "\n",
    "  f.add_subplot(num_samples, 4, i)\n",
    "  imshow(test_images[ix][:,:,0])\n",
    "  plt.title(\"Image\")\n",
    "  plt.axis('off')\n",
    "\n",
    "  f.add_subplot(num_samples, 4, i+1)\n",
    "  imshow(np.squeeze(test_masks[ix][:,:,0]))\n",
    "  plt.title(\"Groud Truth\")\n",
    "  plt.axis('off')\n",
    "\n",
    "  f.add_subplot(num_samples, 4, i+2)\n",
    "  imshow(np.squeeze(predictions[ix][:,:,0]))\n",
    "  plt.title(\"Prediction\")\n",
    "  plt.axis('off')\n",
    "\n",
    "  f.add_subplot(num_samples, 4, i+3)\n",
    "  imshow(np.squeeze(predicton_threshold[ix][:,:,0]))\n",
    "  plt.title(\"thresholded at {}\".format(thresh_val))\n",
    "  plt.axis('off')\n",
    "\n",
    "plt.show()\n"
   ]
  }
 ],
 "metadata": {
  "accelerator": "GPU",
  "colab": {
   "collapsed_sections": [],
   "machine_shape": "hm",
   "name": "Road Detection - GPU.ipynb",
   "provenance": []
  },
  "kernelspec": {
   "display_name": "Python 3 (ipykernel)",
   "language": "python",
   "name": "python3"
  },
  "language_info": {
   "codemirror_mode": {
    "name": "ipython",
    "version": 3
   },
   "file_extension": ".py",
   "mimetype": "text/x-python",
   "name": "python",
   "nbconvert_exporter": "python",
   "pygments_lexer": "ipython3",
   "version": "3.8.17"
  }
 },
 "nbformat": 4,
 "nbformat_minor": 1
}
